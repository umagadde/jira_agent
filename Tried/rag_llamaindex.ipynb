{
 "cells": [
  {
   "cell_type": "markdown",
   "metadata": {},
   "source": [
    "### Imports & Environment Variables "
   ]
  },
  {
   "cell_type": "code",
   "execution_count": 18,
   "metadata": {},
   "outputs": [
    {
     "name": "stdout",
     "output_type": "stream",
     "text": [
      "model_name='BAAI/bge-small-en-v1.5' embed_batch_size=10 callback_manager=<llama_index.core.callbacks.base.CallbackManager object at 0x0000019B80570F50> num_workers=None max_length=512 normalize=True query_instruction=None text_instruction=None cache_folder=None\n"
     ]
    }
   ],
   "source": [
    "from llama_index.core.readers import SimpleDirectoryReader\n",
    "from llama_index.core import Settings\n",
    "from llama_index.llms.openai import OpenAI\n",
    "from llama_index.embeddings.openai import OpenAIEmbedding\n",
    "from llama_index.readers.file import PagedCSVReader\n",
    "from llama_index.vector_stores.faiss import FaissVectorStore\n",
    "from llama_index.core.ingestion import IngestionPipeline\n",
    "from llama_index.core import VectorStoreIndex\n",
    "from llama_index.llms.huggingface import HuggingFaceLLM\n",
    "import faiss\n",
    "import os\n",
    "import pandas as pd\n",
    "from dotenv import load_dotenv\n",
    "import torch\n",
    "import os\n",
    "\n",
    "# Load environment variables from a .env file\n",
    "load_dotenv()\n",
    "\n",
    "EMBED_DIMENSION=384\n",
    "from llama_index.embeddings.huggingface import HuggingFaceEmbedding\n",
    "from llama_index.core import Settings\n",
    "\n",
    "embedding=Settings.embed_model = HuggingFaceEmbedding(\n",
    "    model_name=\"BAAI/bge-small-en-v1.5\",\n",
    "    #dimensions=EMBED_DIMENSION\n",
    ")\n",
    "print(embedding)\n",
    "from llama_index.llms.huggingface import HuggingFaceLLM\n",
    "from transformers import AutoModelForCausalLM, AutoTokenizer\n",
    "import torch\n",
    "\n",
    "\n",
    "from llama_index.llms.deepseek import DeepSeek\n",
    "\n",
    "\n",
    "from llama_index.llms.huggingface import HuggingFaceLLM\n",
    "from llama_index.llms.huggingface_api import HuggingFaceInferenceAPI\n",
    "Settings.llm = HuggingFaceInferenceAPI(\n",
    "    model_name=\"deepseek-ai/DeepSeek-R1-Distill-Qwen-1.5B\", token=os.environ[\"HUGGINGFACE_API_KEY\"]\n",
    ")\n"
   ]
  },
  {
   "cell_type": "code",
   "execution_count": 19,
   "metadata": {},
   "outputs": [
    {
     "data": {
      "text/html": [
       "<div>\n",
       "<style scoped>\n",
       "    .dataframe tbody tr th:only-of-type {\n",
       "        vertical-align: middle;\n",
       "    }\n",
       "\n",
       "    .dataframe tbody tr th {\n",
       "        vertical-align: top;\n",
       "    }\n",
       "\n",
       "    .dataframe thead th {\n",
       "        text-align: right;\n",
       "    }\n",
       "</style>\n",
       "<table border=\"1\" class=\"dataframe\">\n",
       "  <thead>\n",
       "    <tr style=\"text-align: right;\">\n",
       "      <th></th>\n",
       "      <th>id</th>\n",
       "      <th>key</th>\n",
       "      <th>project</th>\n",
       "      <th>summary</th>\n",
       "      <th>description</th>\n",
       "      <th>status</th>\n",
       "      <th>assignee</th>\n",
       "      <th>reporter</th>\n",
       "      <th>priority</th>\n",
       "      <th>issuetype</th>\n",
       "      <th>...</th>\n",
       "      <th>components</th>\n",
       "      <th>sprint</th>\n",
       "      <th>sprintId</th>\n",
       "      <th>sprintState</th>\n",
       "      <th>sprintStartDate</th>\n",
       "      <th>sprintEndDate</th>\n",
       "      <th>storyPoints</th>\n",
       "      <th>epicLink</th>\n",
       "      <th>rank</th>\n",
       "      <th>column</th>\n",
       "    </tr>\n",
       "  </thead>\n",
       "  <tbody>\n",
       "    <tr>\n",
       "      <th>0</th>\n",
       "      <td>1</td>\n",
       "      <td>LOG-1</td>\n",
       "      <td>Logistics Platform</td>\n",
       "      <td>Task 1 for Logistics Platform</td>\n",
       "      <td>Description for task 1 in Logistics Platform</td>\n",
       "      <td>To Do</td>\n",
       "      <td>Charlie</td>\n",
       "      <td>Charlie</td>\n",
       "      <td>Medium</td>\n",
       "      <td>Epic</td>\n",
       "      <td>...</td>\n",
       "      <td>['Database']</td>\n",
       "      <td>Sprint 3</td>\n",
       "      <td>32.0</td>\n",
       "      <td>Active</td>\n",
       "      <td>2024-02-01</td>\n",
       "      <td>2024-02-14</td>\n",
       "      <td>1.0</td>\n",
       "      <td>NaN</td>\n",
       "      <td>3</td>\n",
       "      <td>To Do</td>\n",
       "    </tr>\n",
       "    <tr>\n",
       "      <th>1</th>\n",
       "      <td>2</td>\n",
       "      <td>E-C-2</td>\n",
       "      <td>E-Commerce</td>\n",
       "      <td>Task 2 for E-Commerce</td>\n",
       "      <td>Description for task 2 in E-Commerce</td>\n",
       "      <td>Done</td>\n",
       "      <td>David</td>\n",
       "      <td>Alice</td>\n",
       "      <td>Medium</td>\n",
       "      <td>Task</td>\n",
       "      <td>...</td>\n",
       "      <td>['Database']</td>\n",
       "      <td>Sprint 1</td>\n",
       "      <td>10.0</td>\n",
       "      <td>Completed</td>\n",
       "      <td>2024-01-01</td>\n",
       "      <td>2024-01-14</td>\n",
       "      <td>NaN</td>\n",
       "      <td>EPIC-1</td>\n",
       "      <td>21</td>\n",
       "      <td>Done</td>\n",
       "    </tr>\n",
       "    <tr>\n",
       "      <th>2</th>\n",
       "      <td>3</td>\n",
       "      <td>E-C-3</td>\n",
       "      <td>E-Commerce</td>\n",
       "      <td>Task 3 for E-Commerce</td>\n",
       "      <td>Description for task 3 in E-Commerce</td>\n",
       "      <td>To Do</td>\n",
       "      <td>Charlie</td>\n",
       "      <td>Alice</td>\n",
       "      <td>Medium</td>\n",
       "      <td>Epic</td>\n",
       "      <td>...</td>\n",
       "      <td>['UI']</td>\n",
       "      <td>Sprint 6</td>\n",
       "      <td>26.0</td>\n",
       "      <td>Future</td>\n",
       "      <td>2025-04-03</td>\n",
       "      <td>2025-04-17</td>\n",
       "      <td>8.0</td>\n",
       "      <td>NaN</td>\n",
       "      <td>15</td>\n",
       "      <td>To Do</td>\n",
       "    </tr>\n",
       "    <tr>\n",
       "      <th>3</th>\n",
       "      <td>4</td>\n",
       "      <td>LOG-4</td>\n",
       "      <td>Logistics Platform</td>\n",
       "      <td>Task 4 for Logistics Platform</td>\n",
       "      <td>Description for task 4 in Logistics Platform</td>\n",
       "      <td>To Do</td>\n",
       "      <td>Eve</td>\n",
       "      <td>Bob</td>\n",
       "      <td>Low</td>\n",
       "      <td>Epic</td>\n",
       "      <td>...</td>\n",
       "      <td>['Payment Service']</td>\n",
       "      <td>Sprint 6</td>\n",
       "      <td>43.0</td>\n",
       "      <td>Future</td>\n",
       "      <td>2025-04-03</td>\n",
       "      <td>2025-04-17</td>\n",
       "      <td>5.0</td>\n",
       "      <td>NaN</td>\n",
       "      <td>45</td>\n",
       "      <td>To Do</td>\n",
       "    </tr>\n",
       "    <tr>\n",
       "      <th>4</th>\n",
       "      <td>5</td>\n",
       "      <td>E-C-5</td>\n",
       "      <td>E-Commerce</td>\n",
       "      <td>Task 5 for E-Commerce</td>\n",
       "      <td>Description for task 5 in E-Commerce</td>\n",
       "      <td>To Do</td>\n",
       "      <td>David</td>\n",
       "      <td>Alice</td>\n",
       "      <td>Low</td>\n",
       "      <td>Story</td>\n",
       "      <td>...</td>\n",
       "      <td>['UI']</td>\n",
       "      <td>Sprint 4</td>\n",
       "      <td>30.0</td>\n",
       "      <td>Active</td>\n",
       "      <td>2024-02-15</td>\n",
       "      <td>2024-02-28</td>\n",
       "      <td>8.0</td>\n",
       "      <td>EPIC-1</td>\n",
       "      <td>36</td>\n",
       "      <td>To Do</td>\n",
       "    </tr>\n",
       "  </tbody>\n",
       "</table>\n",
       "<p>5 rows × 24 columns</p>\n",
       "</div>"
      ],
      "text/plain": [
       "   id    key             project                        summary  \\\n",
       "0   1  LOG-1  Logistics Platform  Task 1 for Logistics Platform   \n",
       "1   2  E-C-2          E-Commerce          Task 2 for E-Commerce   \n",
       "2   3  E-C-3          E-Commerce          Task 3 for E-Commerce   \n",
       "3   4  LOG-4  Logistics Platform  Task 4 for Logistics Platform   \n",
       "4   5  E-C-5          E-Commerce          Task 5 for E-Commerce   \n",
       "\n",
       "                                    description status assignee reporter  \\\n",
       "0  Description for task 1 in Logistics Platform  To Do  Charlie  Charlie   \n",
       "1          Description for task 2 in E-Commerce   Done    David    Alice   \n",
       "2          Description for task 3 in E-Commerce  To Do  Charlie    Alice   \n",
       "3  Description for task 4 in Logistics Platform  To Do      Eve      Bob   \n",
       "4          Description for task 5 in E-Commerce  To Do    David    Alice   \n",
       "\n",
       "  priority issuetype  ...           components    sprint sprintId sprintState  \\\n",
       "0   Medium      Epic  ...         ['Database']  Sprint 3     32.0      Active   \n",
       "1   Medium      Task  ...         ['Database']  Sprint 1     10.0   Completed   \n",
       "2   Medium      Epic  ...               ['UI']  Sprint 6     26.0      Future   \n",
       "3      Low      Epic  ...  ['Payment Service']  Sprint 6     43.0      Future   \n",
       "4      Low     Story  ...               ['UI']  Sprint 4     30.0      Active   \n",
       "\n",
       "  sprintStartDate sprintEndDate  storyPoints epicLink rank column  \n",
       "0      2024-02-01    2024-02-14          1.0      NaN    3  To Do  \n",
       "1      2024-01-01    2024-01-14          NaN   EPIC-1   21   Done  \n",
       "2      2025-04-03    2025-04-17          8.0      NaN   15  To Do  \n",
       "3      2025-04-03    2025-04-17          5.0      NaN   45  To Do  \n",
       "4      2024-02-15    2024-02-28          8.0   EPIC-1   36  To Do  \n",
       "\n",
       "[5 rows x 24 columns]"
      ]
     },
     "execution_count": 19,
     "metadata": {},
     "output_type": "execute_result"
    }
   ],
   "source": [
    "file_path = ('new_custom.csv') # insert the path of the csv file\n",
    "data = pd.read_csv(file_path)\n",
    "\n",
    "# Preview the csv file\n",
    "data.head()"
   ]
  },
  {
   "cell_type": "markdown",
   "metadata": {},
   "source": [
    "### Vector Store"
   ]
  },
  {
   "cell_type": "code",
   "execution_count": 20,
   "metadata": {},
   "outputs": [],
   "source": [
    "# Create FaisVectorStore to store embeddings\n",
    "fais_index = faiss.IndexFlatL2(EMBED_DIMENSION)\n",
    "vector_store = FaissVectorStore(faiss_index=fais_index)"
   ]
  },
  {
   "cell_type": "markdown",
   "metadata": {},
   "source": [
    "### Load and Process CSV Data as Document"
   ]
  },
  {
   "cell_type": "code",
   "execution_count": 21,
   "metadata": {},
   "outputs": [],
   "source": [
    "csv_reader = PagedCSVReader()\n",
    "\n",
    "reader = SimpleDirectoryReader( \n",
    "    input_files=[file_path],\n",
    "    file_extractor= {\".csv\": csv_reader}\n",
    "    )\n",
    "\n",
    "docs = reader.load_data()"
   ]
  },
  {
   "cell_type": "code",
   "execution_count": 22,
   "metadata": {},
   "outputs": [
    {
     "name": "stdout",
     "output_type": "stream",
     "text": [
      "id: 1\n",
      "key: LOG-1\n",
      "project: Logistics Platform\n",
      "summary: Task 1 for Logistics Platform\n",
      "description: Description for task 1 in Logistics Platform\n",
      "status: To Do\n",
      "assignee: Charlie\n",
      "reporter: Charlie\n",
      "priority: Medium\n",
      "issuetype: Epic\n",
      "created: 2025-02-04\n",
      "updated: 2025-03-02\n",
      "resolution: \n",
      "labels: ['backend']\n",
      "components: ['Database']\n",
      "sprint: Sprint 3\n",
      "sprintId: 32.0\n",
      "sprintState: Active\n",
      "sprintStartDate: 2024-02-01\n",
      "sprintEndDate: 2024-02-14\n",
      "storyPoints: 1.0\n",
      "epicLink: \n",
      "rank: 3\n",
      "column: To Do\n"
     ]
    }
   ],
   "source": [
    "# Check a sample chunk\n",
    "print(docs[0].text)"
   ]
  },
  {
   "cell_type": "markdown",
   "metadata": {},
   "source": [
    "### Ingestion Pipeline"
   ]
  },
  {
   "cell_type": "code",
   "execution_count": 23,
   "metadata": {},
   "outputs": [],
   "source": [
    "pipeline = IngestionPipeline(\n",
    "    vector_store=vector_store,\n",
    "    documents=docs\n",
    ")\n",
    "\n",
    "nodes = pipeline.run()"
   ]
  },
  {
   "cell_type": "markdown",
   "metadata": {},
   "source": [
    "### Create Query Engine"
   ]
  },
  {
   "cell_type": "code",
   "execution_count": 24,
   "metadata": {},
   "outputs": [],
   "source": [
    "vector_store_index = VectorStoreIndex(nodes)\n",
    "query_engine = vector_store_index.as_query_engine(similarity_top_k=2)"
   ]
  },
  {
   "cell_type": "markdown",
   "metadata": {},
   "source": [
    "### Query the rag bot with a question based on the CSV data"
   ]
  },
  {
   "cell_type": "code",
   "execution_count": 25,
   "metadata": {},
   "outputs": [
    {
     "data": {
      "text/plain": [
       "'Alright, so I need to figure out what the currently open epics are based on the provided context information. Let me start by understanding what the context includes.\\n\\nFirst, I see two files: new_custom.csv with id 3 and id 188. Each of these files has several fields like id, key, project, summary, description, status, assignee, reporter, priority, isotype, created, updated, resolution, labels, components, etc.\\n\\nLooking at the first file with id 3, the status is \"To Do,\" the reporter is Alice, and the priority is Medium. The label is \\'bugfix\\' and the component is \\'UI\\'. The second file with id 188 has a status of \"Done,\" no reporter or reporter, priority is Critical, label is \\'bugfix\\', and the component is \\'Database\\'.\\n\\nNow, the query is asking for the currently open epics. From the context, I can see that both entries have a status of \"To Do\" and \"Done.\" Since \"To Do\" implies that the task is currently open and needs to be prioritized, and \"Done\" suggests it\\'s completed, it seems like both are open epics.\\n\\nI should make sure I\\'m interpreting the status'"
      ]
     },
     "execution_count": 25,
     "metadata": {},
     "output_type": "execute_result"
    }
   ],
   "source": [
    "response = query_engine.query(\"what are the currently open epics\")\n",
    "print(response.response)"
   ]
  },
  {
   "cell_type": "code",
   "execution_count": 26,
   "metadata": {},
   "outputs": [
    {
     "name": "stdout",
     "output_type": "stream",
     "text": [
      "Alright, so I need to figure out what the currently open epics are based on the provided context information. Let me start by understanding what the context includes.\n",
      "\n",
      "First, I see two files: new_custom.csv with id 3 and id 188. Each of these files has several fields like id, key, project, summary, description, status, assignee, reporter, priority, isotype, created, updated, resolution, labels, components, etc.\n",
      "\n",
      "Looking at the first file with id 3, the status is \"To Do,\" the reporter is Alice, and the priority is Medium. The label is 'bugfix' and the component is 'UI'. The second file with id 188 has a status of \"Done,\" no reporter or reporter, priority is Critical, label is 'bugfix', and the component is 'Database'.\n",
      "\n",
      "Now, the query is asking for the currently open epics. From the context, I can see that both entries have a status of \"To Do\" and \"Done.\" Since \"To Do\" implies that the task is currently open and needs to be prioritized, and \"Done\" suggests it's completed, it seems like both are open epics.\n",
      "\n",
      "I should make sure I'm interpreting the status\n"
     ]
    }
   ],
   "source": [
    "print(response.response)"
   ]
  },
  {
   "cell_type": "code",
   "execution_count": null,
   "metadata": {},
   "outputs": [],
   "source": []
  }
 ],
 "metadata": {
  "kernelspec": {
   "display_name": "offEnv",
   "language": "python",
   "name": "python3"
  },
  "language_info": {
   "codemirror_mode": {
    "name": "ipython",
    "version": 3
   },
   "file_extension": ".py",
   "mimetype": "text/x-python",
   "name": "python",
   "nbconvert_exporter": "python",
   "pygments_lexer": "ipython3",
   "version": "3.13.2"
  }
 },
 "nbformat": 4,
 "nbformat_minor": 2
}
